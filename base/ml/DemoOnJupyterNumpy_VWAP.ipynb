{
 "cells": [
  {
   "cell_type": "code",
   "execution_count": 67,
   "metadata": {},
   "outputs": [],
   "source": [
    "import numpy as np\n",
    "import pandas as pd\n",
    "import datetime as datetime"
   ]
  },
  {
   "cell_type": "code",
   "execution_count": 68,
   "metadata": {},
   "outputs": [
    {
     "data": {
      "text/html": [
       "<div>\n",
       "<style scoped>\n",
       "    .dataframe tbody tr th:only-of-type {\n",
       "        vertical-align: middle;\n",
       "    }\n",
       "\n",
       "    .dataframe tbody tr th {\n",
       "        vertical-align: top;\n",
       "    }\n",
       "\n",
       "    .dataframe thead th {\n",
       "        text-align: right;\n",
       "    }\n",
       "</style>\n",
       "<table border=\"1\" class=\"dataframe\">\n",
       "  <thead>\n",
       "    <tr style=\"text-align: right;\">\n",
       "      <th></th>\n",
       "      <th>0</th>\n",
       "      <th>1</th>\n",
       "      <th>2</th>\n",
       "      <th>3</th>\n",
       "      <th>4</th>\n",
       "      <th>5</th>\n",
       "      <th>6</th>\n",
       "      <th>7</th>\n",
       "    </tr>\n",
       "  </thead>\n",
       "  <tbody>\n",
       "    <tr>\n",
       "      <th>0</th>\n",
       "      <td>AAPL</td>\n",
       "      <td>28-01-2011</td>\n",
       "      <td></td>\n",
       "      <td>344.17</td>\n",
       "      <td>344.40</td>\n",
       "      <td>333.53</td>\n",
       "      <td>336.10</td>\n",
       "      <td>21144800</td>\n",
       "    </tr>\n",
       "    <tr>\n",
       "      <th>1</th>\n",
       "      <td>AAPL</td>\n",
       "      <td>31-01-2011</td>\n",
       "      <td></td>\n",
       "      <td>335.80</td>\n",
       "      <td>340.04</td>\n",
       "      <td>334.30</td>\n",
       "      <td>339.32</td>\n",
       "      <td>13473000</td>\n",
       "    </tr>\n",
       "    <tr>\n",
       "      <th>2</th>\n",
       "      <td>AAPL</td>\n",
       "      <td>01-02-2011</td>\n",
       "      <td></td>\n",
       "      <td>341.30</td>\n",
       "      <td>345.65</td>\n",
       "      <td>340.98</td>\n",
       "      <td>345.03</td>\n",
       "      <td>15236800</td>\n",
       "    </tr>\n",
       "    <tr>\n",
       "      <th>3</th>\n",
       "      <td>AAPL</td>\n",
       "      <td>02-02-2011</td>\n",
       "      <td></td>\n",
       "      <td>344.45</td>\n",
       "      <td>345.25</td>\n",
       "      <td>343.55</td>\n",
       "      <td>344.32</td>\n",
       "      <td>9242600</td>\n",
       "    </tr>\n",
       "    <tr>\n",
       "      <th>4</th>\n",
       "      <td>AAPL</td>\n",
       "      <td>03-02-2011</td>\n",
       "      <td></td>\n",
       "      <td>343.80</td>\n",
       "      <td>344.24</td>\n",
       "      <td>338.55</td>\n",
       "      <td>343.44</td>\n",
       "      <td>14064100</td>\n",
       "    </tr>\n",
       "    <tr>\n",
       "      <th>5</th>\n",
       "      <td>AAPL</td>\n",
       "      <td>04-02-2011</td>\n",
       "      <td></td>\n",
       "      <td>343.61</td>\n",
       "      <td>346.70</td>\n",
       "      <td>343.51</td>\n",
       "      <td>346.50</td>\n",
       "      <td>11494200</td>\n",
       "    </tr>\n",
       "    <tr>\n",
       "      <th>6</th>\n",
       "      <td>AAPL</td>\n",
       "      <td>07-02-2011</td>\n",
       "      <td></td>\n",
       "      <td>347.89</td>\n",
       "      <td>353.25</td>\n",
       "      <td>347.64</td>\n",
       "      <td>351.88</td>\n",
       "      <td>17322100</td>\n",
       "    </tr>\n",
       "    <tr>\n",
       "      <th>7</th>\n",
       "      <td>AAPL</td>\n",
       "      <td>08-02-2011</td>\n",
       "      <td></td>\n",
       "      <td>353.68</td>\n",
       "      <td>355.52</td>\n",
       "      <td>352.15</td>\n",
       "      <td>355.20</td>\n",
       "      <td>13608500</td>\n",
       "    </tr>\n",
       "    <tr>\n",
       "      <th>8</th>\n",
       "      <td>AAPL</td>\n",
       "      <td>09-02-2011</td>\n",
       "      <td></td>\n",
       "      <td>355.19</td>\n",
       "      <td>359.00</td>\n",
       "      <td>354.87</td>\n",
       "      <td>358.16</td>\n",
       "      <td>17240800</td>\n",
       "    </tr>\n",
       "    <tr>\n",
       "      <th>9</th>\n",
       "      <td>AAPL</td>\n",
       "      <td>10-02-2011</td>\n",
       "      <td></td>\n",
       "      <td>357.39</td>\n",
       "      <td>360.00</td>\n",
       "      <td>348.00</td>\n",
       "      <td>354.54</td>\n",
       "      <td>33162400</td>\n",
       "    </tr>\n",
       "    <tr>\n",
       "      <th>10</th>\n",
       "      <td>AAPL</td>\n",
       "      <td>11-02-2011</td>\n",
       "      <td></td>\n",
       "      <td>354.75</td>\n",
       "      <td>357.80</td>\n",
       "      <td>353.54</td>\n",
       "      <td>356.85</td>\n",
       "      <td>13127500</td>\n",
       "    </tr>\n",
       "    <tr>\n",
       "      <th>11</th>\n",
       "      <td>AAPL</td>\n",
       "      <td>14-02-2011</td>\n",
       "      <td></td>\n",
       "      <td>356.79</td>\n",
       "      <td>359.48</td>\n",
       "      <td>356.71</td>\n",
       "      <td>359.18</td>\n",
       "      <td>11086200</td>\n",
       "    </tr>\n",
       "    <tr>\n",
       "      <th>12</th>\n",
       "      <td>AAPL</td>\n",
       "      <td>15-02-2011</td>\n",
       "      <td></td>\n",
       "      <td>359.19</td>\n",
       "      <td>359.97</td>\n",
       "      <td>357.55</td>\n",
       "      <td>359.90</td>\n",
       "      <td>10149000</td>\n",
       "    </tr>\n",
       "    <tr>\n",
       "      <th>13</th>\n",
       "      <td>AAPL</td>\n",
       "      <td>16-02-2011</td>\n",
       "      <td></td>\n",
       "      <td>360.80</td>\n",
       "      <td>364.90</td>\n",
       "      <td>360.50</td>\n",
       "      <td>363.13</td>\n",
       "      <td>17184100</td>\n",
       "    </tr>\n",
       "    <tr>\n",
       "      <th>14</th>\n",
       "      <td>AAPL</td>\n",
       "      <td>17-02-2011</td>\n",
       "      <td></td>\n",
       "      <td>357.10</td>\n",
       "      <td>360.27</td>\n",
       "      <td>356.52</td>\n",
       "      <td>358.30</td>\n",
       "      <td>18949000</td>\n",
       "    </tr>\n",
       "    <tr>\n",
       "      <th>15</th>\n",
       "      <td>AAPL</td>\n",
       "      <td>18-02-2011</td>\n",
       "      <td></td>\n",
       "      <td>358.21</td>\n",
       "      <td>359.50</td>\n",
       "      <td>349.52</td>\n",
       "      <td>350.56</td>\n",
       "      <td>29144500</td>\n",
       "    </tr>\n",
       "    <tr>\n",
       "      <th>16</th>\n",
       "      <td>AAPL</td>\n",
       "      <td>22-02-2011</td>\n",
       "      <td></td>\n",
       "      <td>342.05</td>\n",
       "      <td>345.40</td>\n",
       "      <td>337.72</td>\n",
       "      <td>338.61</td>\n",
       "      <td>31162200</td>\n",
       "    </tr>\n",
       "    <tr>\n",
       "      <th>17</th>\n",
       "      <td>AAPL</td>\n",
       "      <td>23-02-2011</td>\n",
       "      <td></td>\n",
       "      <td>338.77</td>\n",
       "      <td>344.64</td>\n",
       "      <td>338.61</td>\n",
       "      <td>342.62</td>\n",
       "      <td>23994700</td>\n",
       "    </tr>\n",
       "    <tr>\n",
       "      <th>18</th>\n",
       "      <td>AAPL</td>\n",
       "      <td>24-02-2011</td>\n",
       "      <td></td>\n",
       "      <td>344.02</td>\n",
       "      <td>345.15</td>\n",
       "      <td>338.37</td>\n",
       "      <td>342.88</td>\n",
       "      <td>17853500</td>\n",
       "    </tr>\n",
       "    <tr>\n",
       "      <th>19</th>\n",
       "      <td>AAPL</td>\n",
       "      <td>25-02-2011</td>\n",
       "      <td></td>\n",
       "      <td>345.29</td>\n",
       "      <td>348.43</td>\n",
       "      <td>344.80</td>\n",
       "      <td>348.16</td>\n",
       "      <td>13572000</td>\n",
       "    </tr>\n",
       "    <tr>\n",
       "      <th>20</th>\n",
       "      <td>AAPL</td>\n",
       "      <td>28-02-2011</td>\n",
       "      <td></td>\n",
       "      <td>351.21</td>\n",
       "      <td>355.05</td>\n",
       "      <td>351.12</td>\n",
       "      <td>353.21</td>\n",
       "      <td>14395400</td>\n",
       "    </tr>\n",
       "    <tr>\n",
       "      <th>21</th>\n",
       "      <td>AAPL</td>\n",
       "      <td>01-03-2011</td>\n",
       "      <td></td>\n",
       "      <td>355.47</td>\n",
       "      <td>355.72</td>\n",
       "      <td>347.68</td>\n",
       "      <td>349.31</td>\n",
       "      <td>16290300</td>\n",
       "    </tr>\n",
       "    <tr>\n",
       "      <th>22</th>\n",
       "      <td>AAPL</td>\n",
       "      <td>02-03-2011</td>\n",
       "      <td></td>\n",
       "      <td>349.96</td>\n",
       "      <td>354.35</td>\n",
       "      <td>348.40</td>\n",
       "      <td>352.12</td>\n",
       "      <td>21521000</td>\n",
       "    </tr>\n",
       "    <tr>\n",
       "      <th>23</th>\n",
       "      <td>AAPL</td>\n",
       "      <td>03-03-2011</td>\n",
       "      <td></td>\n",
       "      <td>357.20</td>\n",
       "      <td>359.79</td>\n",
       "      <td>355.92</td>\n",
       "      <td>359.56</td>\n",
       "      <td>17885200</td>\n",
       "    </tr>\n",
       "    <tr>\n",
       "      <th>24</th>\n",
       "      <td>AAPL</td>\n",
       "      <td>04-03-2011</td>\n",
       "      <td></td>\n",
       "      <td>360.07</td>\n",
       "      <td>360.29</td>\n",
       "      <td>357.75</td>\n",
       "      <td>360.00</td>\n",
       "      <td>16188000</td>\n",
       "    </tr>\n",
       "    <tr>\n",
       "      <th>25</th>\n",
       "      <td>AAPL</td>\n",
       "      <td>07-03-2011</td>\n",
       "      <td></td>\n",
       "      <td>361.11</td>\n",
       "      <td>361.67</td>\n",
       "      <td>351.31</td>\n",
       "      <td>355.36</td>\n",
       "      <td>19504300</td>\n",
       "    </tr>\n",
       "    <tr>\n",
       "      <th>26</th>\n",
       "      <td>AAPL</td>\n",
       "      <td>08-03-2011</td>\n",
       "      <td></td>\n",
       "      <td>354.91</td>\n",
       "      <td>357.40</td>\n",
       "      <td>352.25</td>\n",
       "      <td>355.76</td>\n",
       "      <td>12718000</td>\n",
       "    </tr>\n",
       "    <tr>\n",
       "      <th>27</th>\n",
       "      <td>AAPL</td>\n",
       "      <td>09-03-2011</td>\n",
       "      <td></td>\n",
       "      <td>354.69</td>\n",
       "      <td>354.76</td>\n",
       "      <td>350.60</td>\n",
       "      <td>352.47</td>\n",
       "      <td>16192700</td>\n",
       "    </tr>\n",
       "    <tr>\n",
       "      <th>28</th>\n",
       "      <td>AAPL</td>\n",
       "      <td>10-03-2011</td>\n",
       "      <td></td>\n",
       "      <td>349.69</td>\n",
       "      <td>349.77</td>\n",
       "      <td>344.90</td>\n",
       "      <td>346.67</td>\n",
       "      <td>18138800</td>\n",
       "    </tr>\n",
       "    <tr>\n",
       "      <th>29</th>\n",
       "      <td>AAPL</td>\n",
       "      <td>11-03-2011</td>\n",
       "      <td></td>\n",
       "      <td>345.40</td>\n",
       "      <td>352.32</td>\n",
       "      <td>345.00</td>\n",
       "      <td>351.99</td>\n",
       "      <td>16824200</td>\n",
       "    </tr>\n",
       "  </tbody>\n",
       "</table>\n",
       "</div>"
      ],
      "text/plain": [
       "       0           1  2       3       4       5       6         7\n",
       "0   AAPL  28-01-2011     344.17  344.40  333.53  336.10  21144800\n",
       "1   AAPL  31-01-2011     335.80  340.04  334.30  339.32  13473000\n",
       "2   AAPL  01-02-2011     341.30  345.65  340.98  345.03  15236800\n",
       "3   AAPL  02-02-2011     344.45  345.25  343.55  344.32   9242600\n",
       "4   AAPL  03-02-2011     343.80  344.24  338.55  343.44  14064100\n",
       "5   AAPL  04-02-2011     343.61  346.70  343.51  346.50  11494200\n",
       "6   AAPL  07-02-2011     347.89  353.25  347.64  351.88  17322100\n",
       "7   AAPL  08-02-2011     353.68  355.52  352.15  355.20  13608500\n",
       "8   AAPL  09-02-2011     355.19  359.00  354.87  358.16  17240800\n",
       "9   AAPL  10-02-2011     357.39  360.00  348.00  354.54  33162400\n",
       "10  AAPL  11-02-2011     354.75  357.80  353.54  356.85  13127500\n",
       "11  AAPL  14-02-2011     356.79  359.48  356.71  359.18  11086200\n",
       "12  AAPL  15-02-2011     359.19  359.97  357.55  359.90  10149000\n",
       "13  AAPL  16-02-2011     360.80  364.90  360.50  363.13  17184100\n",
       "14  AAPL  17-02-2011     357.10  360.27  356.52  358.30  18949000\n",
       "15  AAPL  18-02-2011     358.21  359.50  349.52  350.56  29144500\n",
       "16  AAPL  22-02-2011     342.05  345.40  337.72  338.61  31162200\n",
       "17  AAPL  23-02-2011     338.77  344.64  338.61  342.62  23994700\n",
       "18  AAPL  24-02-2011     344.02  345.15  338.37  342.88  17853500\n",
       "19  AAPL  25-02-2011     345.29  348.43  344.80  348.16  13572000\n",
       "20  AAPL  28-02-2011     351.21  355.05  351.12  353.21  14395400\n",
       "21  AAPL  01-03-2011     355.47  355.72  347.68  349.31  16290300\n",
       "22  AAPL  02-03-2011     349.96  354.35  348.40  352.12  21521000\n",
       "23  AAPL  03-03-2011     357.20  359.79  355.92  359.56  17885200\n",
       "24  AAPL  04-03-2011     360.07  360.29  357.75  360.00  16188000\n",
       "25  AAPL  07-03-2011     361.11  361.67  351.31  355.36  19504300\n",
       "26  AAPL  08-03-2011     354.91  357.40  352.25  355.76  12718000\n",
       "27  AAPL  09-03-2011     354.69  354.76  350.60  352.47  16192700\n",
       "28  AAPL  10-03-2011     349.69  349.77  344.90  346.67  18138800\n",
       "29  AAPL  11-03-2011     345.40  352.32  345.00  351.99  16824200"
      ]
     },
     "execution_count": 68,
     "metadata": {},
     "output_type": "execute_result"
    }
   ],
   "source": [
    "pd.read_csv('data.csv', header=None).head(100)"
   ]
  },
  {
   "cell_type": "code",
   "execution_count": 69,
   "metadata": {},
   "outputs": [],
   "source": [
    "h,i,c,v = np.loadtxt('data.csv', delimiter=',', usecols=(4,5,6,7), unpack=True)"
   ]
  },
  {
   "cell_type": "code",
   "execution_count": 70,
   "metadata": {},
   "outputs": [
    {
     "data": {
      "text/plain": [
       "350.5895493532009"
      ]
     },
     "execution_count": 70,
     "metadata": {},
     "output_type": "execute_result"
    }
   ],
   "source": [
    "np.average(c, weights=v)#加权平均值"
   ]
  },
  {
   "cell_type": "code",
   "execution_count": 71,
   "metadata": {},
   "outputs": [
    {
     "data": {
      "text/plain": [
       "351.0376666666667"
      ]
     },
     "execution_count": 71,
     "metadata": {},
     "output_type": "execute_result"
    }
   ],
   "source": [
    "np.mean(c)#平均值"
   ]
  },
  {
   "cell_type": "code",
   "execution_count": 72,
   "metadata": {},
   "outputs": [
    {
     "data": {
      "text/plain": [
       "352.055"
      ]
     },
     "execution_count": 72,
     "metadata": {},
     "output_type": "execute_result"
    }
   ],
   "source": [
    "np.median(c)#中位数"
   ]
  },
  {
   "cell_type": "code",
   "execution_count": 73,
   "metadata": {},
   "outputs": [
    {
     "data": {
      "text/plain": [
       "array([336.1 , 338.61, 339.32, 342.62, 342.88, 343.44, 344.32, 345.03,\n",
       "       346.5 , 346.67, 348.16, 349.31, 350.56, 351.88, 351.99, 352.12,\n",
       "       352.47, 353.21, 354.54, 355.2 , 355.36, 355.76, 356.85, 358.16,\n",
       "       358.3 , 359.18, 359.56, 359.9 , 360.  , 363.13])"
      ]
     },
     "execution_count": 73,
     "metadata": {},
     "output_type": "execute_result"
    }
   ],
   "source": [
    "np.msort(c)#排序"
   ]
  },
  {
   "cell_type": "code",
   "execution_count": 74,
   "metadata": {},
   "outputs": [
    {
     "data": {
      "text/plain": [
       "30"
      ]
     },
     "execution_count": 74,
     "metadata": {},
     "output_type": "execute_result"
    }
   ],
   "source": [
    "len(c)"
   ]
  },
  {
   "cell_type": "code",
   "execution_count": 75,
   "metadata": {},
   "outputs": [
    {
     "data": {
      "text/plain": [
       "50.126517888888884"
      ]
     },
     "execution_count": 75,
     "metadata": {},
     "output_type": "execute_result"
    }
   ],
   "source": [
    "np.var(c)#方差"
   ]
  },
  {
   "cell_type": "code",
   "execution_count": 76,
   "metadata": {},
   "outputs": [
    {
     "data": {
      "text/plain": [
       "364.9"
      ]
     },
     "execution_count": 76,
     "metadata": {},
     "output_type": "execute_result"
    }
   ],
   "source": [
    "np.max(h)"
   ]
  },
  {
   "cell_type": "code",
   "execution_count": 77,
   "metadata": {},
   "outputs": [
    {
     "data": {
      "text/plain": [
       "333.53"
      ]
     },
     "execution_count": 77,
     "metadata": {},
     "output_type": "execute_result"
    }
   ],
   "source": [
    "np.min(i)"
   ]
  },
  {
   "cell_type": "code",
   "execution_count": 78,
   "metadata": {},
   "outputs": [
    {
     "data": {
      "text/plain": [
       "array([ 0.00958048,  0.01682777, -0.00205779, -0.00255576,  0.00890985,\n",
       "        0.0155267 ,  0.00943503,  0.00833333, -0.01010721,  0.00651548,\n",
       "        0.00652935,  0.00200457,  0.00897472, -0.01330102, -0.02160201,\n",
       "       -0.03408832,  0.01184253,  0.00075886,  0.01539897,  0.01450483,\n",
       "       -0.01104159,  0.00804443,  0.02112916,  0.00122372, -0.01288889,\n",
       "        0.00112562, -0.00924781, -0.0164553 ,  0.01534601])"
      ]
     },
     "execution_count": 78,
     "metadata": {},
     "output_type": "execute_result"
    }
   ],
   "source": [
    "np.diff(c)/c[:-1]#diff 相邻数组元素的差值"
   ]
  },
  {
   "cell_type": "code",
   "execution_count": 79,
   "metadata": {},
   "outputs": [
    {
     "data": {
      "text/plain": [
       "array([ 0.00953488,  0.01668775, -0.00205991, -0.00255903,  0.00887039,\n",
       "        0.01540739,  0.0093908 ,  0.0082988 , -0.01015864,  0.00649435,\n",
       "        0.00650813,  0.00200256,  0.00893468, -0.01339027, -0.02183875,\n",
       "       -0.03468287,  0.01177296,  0.00075857,  0.01528161,  0.01440064,\n",
       "       -0.011103  ,  0.00801225,  0.02090904,  0.00122297, -0.01297267,\n",
       "        0.00112499, -0.00929083, -0.01659219,  0.01522945])"
      ]
     },
     "execution_count": 79,
     "metadata": {},
     "output_type": "execute_result"
    }
   ],
   "source": [
    "np.diff(np.log(c))#对数的差=相除的对数"
   ]
  },
  {
   "cell_type": "code",
   "execution_count": 80,
   "metadata": {},
   "outputs": [],
   "source": [
    "c = np.loadtxt('data.csv', delimiter=',', usecols=(6), unpack=True)"
   ]
  },
  {
   "cell_type": "code",
   "execution_count": 81,
   "metadata": {},
   "outputs": [
    {
     "data": {
      "text/plain": [
       "(array([ 0,  1,  4,  5,  6,  7,  9, 10, 11, 12, 16, 17, 18, 19, 21, 22, 23,\n",
       "        25, 28]),)"
      ]
     },
     "execution_count": 81,
     "metadata": {},
     "output_type": "execute_result"
    }
   ],
   "source": [
    "returns = np.diff(c)/c[:-1]\n",
    "np.where(returns>0)"
   ]
  },
  {
   "cell_type": "code",
   "execution_count": 90,
   "metadata": {},
   "outputs": [
    {
     "data": {
      "text/plain": [
       "129.27478991115132"
      ]
     },
     "execution_count": 90,
     "metadata": {},
     "output_type": "execute_result"
    }
   ],
   "source": [
    "logreturns = np.diff(np.log(c))\n",
    "#年波动率=对数收益率的标准差（std）/对数收益率的均值（mean）/交易日倒数（1/252）\n",
    "np.std(logreturns)/np.mean(logreturns)/np.sqrt(1./252.)"
   ]
  },
  {
   "cell_type": "code",
   "execution_count": 91,
   "metadata": {},
   "outputs": [],
   "source": [
    "def datestr2num(s):\n",
    "    return datetime.datetime.strptime(s.decode(\"utf-8\") , \"%d-%m-%Y\").date().weekday()"
   ]
  },
  {
   "cell_type": "code",
   "execution_count": 94,
   "metadata": {},
   "outputs": [
    {
     "data": {
      "text/plain": [
       "array([4., 0., 1., 2., 3., 4., 0., 1., 2., 3., 4., 0., 1., 2., 3., 4., 1.,\n",
       "       2., 3., 4., 0., 1., 2., 3., 4., 0., 1., 2., 3., 4.])"
      ]
     },
     "execution_count": 94,
     "metadata": {},
     "output_type": "execute_result"
    }
   ],
   "source": [
    "#monday=0\n",
    "dates, close = np.loadtxt('data.csv', delimiter=',', converters={1:datestr2num}, usecols=(1,6),  unpack=True)\n",
    "dates"
   ]
  },
  {
   "cell_type": "code",
   "execution_count": 97,
   "metadata": {},
   "outputs": [
    {
     "name": "stdout",
     "output_type": "stream",
     "text": [
      "day 0 prices [[339.32 351.88 359.18 353.21 355.36]] average 351.7900000000001\n",
      "day 1 prices [[345.03 355.2  359.9  338.61 349.31 355.76]] average 350.63500000000005\n",
      "day 2 prices [[344.32 358.16 363.13 342.62 352.12 352.47]] average 352.1366666666666\n",
      "day 3 prices [[343.44 354.54 358.3  342.88 359.56 346.67]] average 350.8983333333333\n",
      "day 4 prices [[336.1  346.5  356.85 350.56 348.16 360.   351.99]] average 350.0228571428571\n",
      "highest average 352.1366666666666\n",
      "top day of the week 2\n",
      "lowest average 350.0228571428571\n",
      "bottom day of the week 4\n"
     ]
    }
   ],
   "source": [
    "averages = np.zeros(5)\n",
    "for i in range(5):\n",
    "    indices = np.where(dates == i)\n",
    "    prices = np.take(close, indices)\n",
    "    avg = np.mean(prices)\n",
    "    print(\"day\",i,\"prices\",prices,\"average\",avg)\n",
    "    averages[i] = avg\n",
    "\n",
    "print(\"highest average\", np.max(averages))\n",
    "print(\"top day of the week\", np.argmax(averages))\n",
    "print(\"lowest average\", np.min(averages))\n",
    "print(\"bottom day of the week\", np.argmin(averages))"
   ]
  },
  {
   "cell_type": "code",
   "execution_count": null,
   "metadata": {},
   "outputs": [],
   "source": []
  }
 ],
 "metadata": {
  "kernelspec": {
   "display_name": "Python 3",
   "language": "python",
   "name": "python3"
  },
  "language_info": {
   "codemirror_mode": {
    "name": "ipython",
    "version": 3
   },
   "file_extension": ".py",
   "mimetype": "text/x-python",
   "name": "python",
   "nbconvert_exporter": "python",
   "pygments_lexer": "ipython3",
   "version": "3.7.3"
  }
 },
 "nbformat": 4,
 "nbformat_minor": 4
}
